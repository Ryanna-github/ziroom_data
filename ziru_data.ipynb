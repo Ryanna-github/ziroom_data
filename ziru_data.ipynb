{
 "cells": [
  {
   "cell_type": "markdown",
   "metadata": {},
   "source": [
    "# Ziroom 北京市租房信息（包含房价）采集（python）"
   ]
  },
  {
   "cell_type": "markdown",
   "metadata": {},
   "source": [
    "## 思路分析\n",
    "\n",
    "- 一级网页为大循环，主要操作二级网页\n",
    "    - 一级网页：包含多个详细房源信息的网页，用于获取详细房源信息，翻页\n",
    "    - 二级网页：详细房源信息，用于获取具体的信息\n",
    "- 由于网络情况很可能出现部分页面虽然是包含目标信息的但是没有成功获取的情况，所以要储存加载失败的网页链接，以便进行进一步的补充获取\n",
    "- 房价信息较难获取，在获取信息的时候暂时先只保存背景图片的网址以及各位数字在图片中的位置\n",
    "- 使用 ```BeautifulSoup``` 包进行网络信息获取\n",
    "- 注意设置异常情况（如网页没有加载成功，标签不存在）的处理，以保证爬虫的稳定"
   ]
  },
  {
   "cell_type": "markdown",
   "metadata": {},
   "source": [
    "## 导入使用的包"
   ]
  },
  {
   "cell_type": "code",
   "execution_count": 1,
   "metadata": {},
   "outputs": [],
   "source": [
    "from bs4 import BeautifulSoup\n",
    "import re\n",
    "from urllib.request import urlopen\n",
    "import pandas as pd\n",
    "from urllib.error import HTTPError\n",
    "from PIL import Image\n",
    "import pytesseract\n",
    "from io import BytesIO\n",
    "import requests\n",
    "import copy"
   ]
  },
  {
   "cell_type": "markdown",
   "metadata": {},
   "source": [
    "## 读取原始数据"
   ]
  },
  {
   "cell_type": "markdown",
   "metadata": {},
   "source": [
    "需要函数：\n",
    "- 找到网页中所有的具体房源链接\n",
    "- 找到具体房源链接中所有有用的信息"
   ]
  },
  {
   "cell_type": "code",
   "execution_count": 3,
   "metadata": {},
   "outputs": [],
   "source": [
    "# 筛选页面中所有可以链接到具体房间页面的链接\n",
    "# 传入的变量为一个链接\n",
    "# 返回所有符合要求链接的列表（无重复）\n",
    "def getLinks(url):\n",
    "    # 生成该网页的 BeautifulSoup 对象\n",
    "    for _ in range(20):\n",
    "        html = urlopen(url)\n",
    "        bso = BeautifulSoup(html.read())\n",
    "        if len(bso) > 0:\n",
    "            break\n",
    "    # 20次尝试以后还是没有加载成功\n",
    "    if len(bso) == 0:\n",
    "        print(\"该 BeautifulSoup 对象为空，返回 []\")\n",
    "        return []\n",
    "    \n",
    "    links = [] # 用于储存最终的结果\n",
    "    links_all = bso.findAll(\"a\", {\"href\":re.compile(\"//www.ziroom.com/x/.*html\")})\n",
    "    for link in links_all:\n",
    "        # 只有显示出现的链接才是我们感兴趣的量\n",
    "        if 'href' in link.attrs:\n",
    "            links.append('http:' + link.attrs['href'])\n",
    "    if len(links) == 0:\n",
    "        print(\"出错！该 BeautifulSoup 对象虽然不为空，但是没有出现符合条件的链接，原本的网页长这个样子\")\n",
    "        print(bso)\n",
    "        print(\"该网页的网址为：\", url)\n",
    "    print(url, \"中所有具体房源链接返回成功！一共有（个）：\", len(set(links)))\n",
    "    return list(set(links))"
   ]
  },
  {
   "cell_type": "code",
   "execution_count": 78,
   "metadata": {},
   "outputs": [],
   "source": [
    "# 传入一个具体房源页面的网址\n",
    "# 以数据框的形式输出该页面上所有需要获取的信息\n",
    "'''\n",
    "获取信息包括：\n",
    "    名称：name\n",
    "    房屋面积：area\n",
    "    房屋朝向：toward\n",
    "    房屋配置（几室几厅）：config\n",
    "    交通距离（尚不明确是否均为距离地铁站的距离）：distance\n",
    "    房屋楼层/总楼层：floor/total\n",
    "    是否有电梯：have_elevator\n",
    "    房屋建成年份：built_year\n",
    "    如何供暖：heat\n",
    "    绿化程度（百分比）：green\n",
    "    价格对应的背景图片链接：img_url\n",
    "    价格的源代码信息：price_raw\n",
    "    价格单位（个别房间是按天计价）：price_unit\n",
    "    网页链接（方便后期检查）：url\n",
    "'''\n",
    "def getInf(url, successLinks_in, failLinks_in):\n",
    "    # 生成该网页的 BeautifulSoup 对象\n",
    "    # 20次之内如果找不到该网页就放弃\n",
    "    successLinks = successLinks_in\n",
    "    failLinks = failLinks_in\n",
    "    for i in range(20):\n",
    "#         if i > 18:\n",
    "#             print(\"尝试打开这个链接很多次\")\n",
    "        html = urlopen(url)\n",
    "        bso = BeautifulSoup(html.read())\n",
    "        if len(bso) > 0:\n",
    "            break\n",
    "    #出现这种问题应该回收这个链接\n",
    "    if len(bso) == 0:\n",
    "        failLinks.append(url)\n",
    "#         print(\"该 BeautifulSoup 对象完全就是空的，更找不到具体明细了，返回 None\")\n",
    "#         print(\"出错网页：\", url)\n",
    "        return None\n",
    "    \n",
    "    try:\n",
    "        sideInf = bso.body.section.aside\n",
    "        homeInf = sideInf.find(\"div\", {\"class\": \"Z_home_info\"})\n",
    "        inf = {}\n",
    "        inf['name'] = sideInf.h1.get_text()\n",
    "        inf['area'], inf['toward'], inf['config'] = [dd.get_text() for dd in homeInf.findAll(\"dd\")]\n",
    "        inf['distance'], inf['floor/total'], inf['have_elevator'], inf['built_year'], inf['heat'], inf['green'] = [s.get_text() for s in homeInf.findAll(\"span\", {\"class\": \"va\"})]\n",
    "        \n",
    "        # 存储价格有关的原始信息，是列表的形式\n",
    "        priceInf = sideInf.find(\"div\", {\"class\": \"Z_price\"})\n",
    "        numsInf = priceInf.findAll(\"i\", {\"class\": \"num\"})\n",
    "        unitInf = priceInf.findAll(\"span\")[-1]\n",
    "        \n",
    "        imgUrl = 'https:' + re.findall(\"//[.|0-9|a-z|A-Z|/]*\", str(numsInf[0]))[0]\n",
    "        priceIdxRaw = []\n",
    "        for numInf in numsInf:\n",
    "            pos = re.findall(\"[0-9|.]*px\", str(numInf))[0][:-2]\n",
    "            priceIdxRaw.append(str(pos))\n",
    "        inf['img_url'] = imgUrl\n",
    "        inf['price_raw'] = ','.join(priceIdxRaw)\n",
    "        inf['price_unit'] = unitInf.get_text()\n",
    "        inf['url'] = url\n",
    "#         print(url, \"上的数据项已采集完全！成功返回！\")\n",
    "        \n",
    "        successLinks.append(url)\n",
    "        return pd.DataFrame(inf,index = [0])\n",
    "    \n",
    "    except AttributeError as e:\n",
    "        # 只要有一个值没有没采集就整个返回为空\n",
    "#         print(url, \"上的数据项没有采集完全，返回 None\")\n",
    "        return None"
   ]
  },
  {
   "cell_type": "code",
   "execution_count": 75,
   "metadata": {},
   "outputs": [],
   "source": [
    "# 返回传入页面链接上所有感兴趣的变量\n",
    "def getPagesInf(links, successLinks_in, failLinks_in):\n",
    "    successLinks = successLinks_in\n",
    "    failLinks = failLinks_in\n",
    "    noneCounter = 0\n",
    "    inf_df = pd.DataFrame()\n",
    "    for i, link in enumerate(links):\n",
    "#         最终运行的输出提示\n",
    "        if i%100 == 0:\n",
    "            print(\"已经运行到第\", i, \"个链接，成功采集条数：\", len(successLinks), \"失败采集条数：\", len(failLinks))\n",
    "        try:\n",
    "            pageSuccessLinks = []\n",
    "            pageFailLinks = []\n",
    "            inf = getInf(link, pageSuccessLinks, pageFailLinks)\n",
    "            successLinks.extend(pageSuccessLinks)\n",
    "            failLinks.extend(pageFailLinks)\n",
    "            inf_df = inf_df.append(inf)\n",
    "            if type(inf_df) == None:\n",
    "                noneCounter += 1\n",
    "            if i > 100 and noneCounter > i/2:\n",
    "                print(\"这次循环出现过多采集失败，未采集到的链接归入失败列表\")\n",
    "                failLinks.extend(links[i:])\n",
    "                return inf_df\n",
    "        except HTTPError as e:\n",
    "            print(link, '打不开')\n",
    "            failLinks.append(link)\n",
    "    return inf_df"
   ]
  },
  {
   "cell_type": "code",
   "execution_count": 21,
   "metadata": {},
   "outputs": [
    {
     "name": "stdout",
     "output_type": "stream",
     "text": [
      "https://www.ziroom.com/z/z0-p1/?qwd=%E5%8C%97%E4%BA%AC 中所有具体房源链接返回成功！一共有（个）： 59\n",
      "https://www.ziroom.com/z/z0-p2/?qwd=%E5%8C%97%E4%BA%AC 中所有具体房源链接返回成功！一共有（个）： 59\n",
      "https://www.ziroom.com/z/z0-p3/?qwd=%E5%8C%97%E4%BA%AC 中所有具体房源链接返回成功！一共有（个）： 59\n",
      "https://www.ziroom.com/z/z0-p4/?qwd=%E5%8C%97%E4%BA%AC 中所有具体房源链接返回成功！一共有（个）： 60\n",
      "https://www.ziroom.com/z/z0-p5/?qwd=%E5%8C%97%E4%BA%AC 中所有具体房源链接返回成功！一共有（个）： 60\n",
      "https://www.ziroom.com/z/z0-p6/?qwd=%E5%8C%97%E4%BA%AC 中所有具体房源链接返回成功！一共有（个）： 59\n",
      "https://www.ziroom.com/z/z0-p7/?qwd=%E5%8C%97%E4%BA%AC 中所有具体房源链接返回成功！一共有（个）： 59\n",
      "https://www.ziroom.com/z/z0-p8/?qwd=%E5%8C%97%E4%BA%AC 中所有具体房源链接返回成功！一共有（个）： 58\n",
      "https://www.ziroom.com/z/z0-p9/?qwd=%E5%8C%97%E4%BA%AC 中所有具体房源链接返回成功！一共有（个）： 58\n",
      "https://www.ziroom.com/z/z0-p10/?qwd=%E5%8C%97%E4%BA%AC 中所有具体房源链接返回成功！一共有（个）： 60\n",
      "https://www.ziroom.com/z/z0-p11/?qwd=%E5%8C%97%E4%BA%AC 中所有具体房源链接返回成功！一共有（个）： 60\n",
      "https://www.ziroom.com/z/z0-p12/?qwd=%E5%8C%97%E4%BA%AC 中所有具体房源链接返回成功！一共有（个）： 60\n",
      "https://www.ziroom.com/z/z0-p13/?qwd=%E5%8C%97%E4%BA%AC 中所有具体房源链接返回成功！一共有（个）： 59\n",
      "https://www.ziroom.com/z/z0-p14/?qwd=%E5%8C%97%E4%BA%AC 中所有具体房源链接返回成功！一共有（个）： 59\n",
      "https://www.ziroom.com/z/z0-p15/?qwd=%E5%8C%97%E4%BA%AC 中所有具体房源链接返回成功！一共有（个）： 60\n",
      "https://www.ziroom.com/z/z0-p16/?qwd=%E5%8C%97%E4%BA%AC 中所有具体房源链接返回成功！一共有（个）： 60\n",
      "https://www.ziroom.com/z/z0-p17/?qwd=%E5%8C%97%E4%BA%AC 中所有具体房源链接返回成功！一共有（个）： 57\n",
      "https://www.ziroom.com/z/z0-p18/?qwd=%E5%8C%97%E4%BA%AC 中所有具体房源链接返回成功！一共有（个）： 60\n",
      "https://www.ziroom.com/z/z0-p19/?qwd=%E5%8C%97%E4%BA%AC 中所有具体房源链接返回成功！一共有（个）： 60\n",
      "https://www.ziroom.com/z/z0-p20/?qwd=%E5%8C%97%E4%BA%AC 中所有具体房源链接返回成功！一共有（个）： 60\n",
      "https://www.ziroom.com/z/z0-p21/?qwd=%E5%8C%97%E4%BA%AC 中所有具体房源链接返回成功！一共有（个）： 60\n",
      "https://www.ziroom.com/z/z0-p22/?qwd=%E5%8C%97%E4%BA%AC 中所有具体房源链接返回成功！一共有（个）： 58\n",
      "https://www.ziroom.com/z/z0-p23/?qwd=%E5%8C%97%E4%BA%AC 中所有具体房源链接返回成功！一共有（个）： 57\n",
      "https://www.ziroom.com/z/z0-p24/?qwd=%E5%8C%97%E4%BA%AC 中所有具体房源链接返回成功！一共有（个）： 60\n",
      "https://www.ziroom.com/z/z0-p25/?qwd=%E5%8C%97%E4%BA%AC 中所有具体房源链接返回成功！一共有（个）： 59\n",
      "https://www.ziroom.com/z/z0-p26/?qwd=%E5%8C%97%E4%BA%AC 中所有具体房源链接返回成功！一共有（个）： 60\n",
      "https://www.ziroom.com/z/z0-p27/?qwd=%E5%8C%97%E4%BA%AC 中所有具体房源链接返回成功！一共有（个）： 59\n",
      "https://www.ziroom.com/z/z0-p28/?qwd=%E5%8C%97%E4%BA%AC 中所有具体房源链接返回成功！一共有（个）： 60\n",
      "https://www.ziroom.com/z/z0-p29/?qwd=%E5%8C%97%E4%BA%AC 中所有具体房源链接返回成功！一共有（个）： 60\n",
      "https://www.ziroom.com/z/z0-p30/?qwd=%E5%8C%97%E4%BA%AC 中所有具体房源链接返回成功！一共有（个）： 60\n",
      "https://www.ziroom.com/z/z0-p31/?qwd=%E5%8C%97%E4%BA%AC 中所有具体房源链接返回成功！一共有（个）： 60\n",
      "https://www.ziroom.com/z/z0-p32/?qwd=%E5%8C%97%E4%BA%AC 中所有具体房源链接返回成功！一共有（个）： 60\n",
      "https://www.ziroom.com/z/z0-p33/?qwd=%E5%8C%97%E4%BA%AC 中所有具体房源链接返回成功！一共有（个）： 60\n",
      "https://www.ziroom.com/z/z0-p34/?qwd=%E5%8C%97%E4%BA%AC 中所有具体房源链接返回成功！一共有（个）： 60\n",
      "https://www.ziroom.com/z/z0-p35/?qwd=%E5%8C%97%E4%BA%AC 中所有具体房源链接返回成功！一共有（个）： 60\n",
      "https://www.ziroom.com/z/z0-p36/?qwd=%E5%8C%97%E4%BA%AC 中所有具体房源链接返回成功！一共有（个）： 59\n",
      "https://www.ziroom.com/z/z0-p37/?qwd=%E5%8C%97%E4%BA%AC 中所有具体房源链接返回成功！一共有（个）： 60\n",
      "https://www.ziroom.com/z/z0-p38/?qwd=%E5%8C%97%E4%BA%AC 中所有具体房源链接返回成功！一共有（个）： 60\n",
      "https://www.ziroom.com/z/z0-p39/?qwd=%E5%8C%97%E4%BA%AC 中所有具体房源链接返回成功！一共有（个）： 60\n",
      "https://www.ziroom.com/z/z0-p40/?qwd=%E5%8C%97%E4%BA%AC 中所有具体房源链接返回成功！一共有（个）： 60\n",
      "https://www.ziroom.com/z/z0-p41/?qwd=%E5%8C%97%E4%BA%AC 中所有具体房源链接返回成功！一共有（个）： 60\n",
      "https://www.ziroom.com/z/z0-p42/?qwd=%E5%8C%97%E4%BA%AC 中所有具体房源链接返回成功！一共有（个）： 59\n",
      "https://www.ziroom.com/z/z0-p43/?qwd=%E5%8C%97%E4%BA%AC 中所有具体房源链接返回成功！一共有（个）： 60\n",
      "https://www.ziroom.com/z/z0-p44/?qwd=%E5%8C%97%E4%BA%AC 中所有具体房源链接返回成功！一共有（个）： 60\n",
      "https://www.ziroom.com/z/z0-p45/?qwd=%E5%8C%97%E4%BA%AC 中所有具体房源链接返回成功！一共有（个）： 60\n",
      "https://www.ziroom.com/z/z0-p46/?qwd=%E5%8C%97%E4%BA%AC 中所有具体房源链接返回成功！一共有（个）： 60\n",
      "https://www.ziroom.com/z/z0-p47/?qwd=%E5%8C%97%E4%BA%AC 中所有具体房源链接返回成功！一共有（个）： 60\n",
      "https://www.ziroom.com/z/z0-p48/?qwd=%E5%8C%97%E4%BA%AC 中所有具体房源链接返回成功！一共有（个）： 60\n",
      "https://www.ziroom.com/z/z0-p49/?qwd=%E5%8C%97%E4%BA%AC 中所有具体房源链接返回成功！一共有（个）： 60\n",
      "https://www.ziroom.com/z/z0-p50/?qwd=%E5%8C%97%E4%BA%AC 中所有具体房源链接返回成功！一共有（个）： 60\n"
     ]
    }
   ],
   "source": [
    "# 注意到一共有50个页面，可以直接设置死的页数循环\n",
    "# 待修改为更加灵活的循环\n",
    "pagesLinks = []\n",
    "for i in range(1, 51):\n",
    "    url = ('https://www.ziroom.com/z/z0-p{}/?qwd=%E5%8C%97%E4%BA%AC'.format(i))\n",
    "    thisPageLinks = getLinks(url)\n",
    "    pagesLinks.extend(thisPageLinks)"
   ]
  },
  {
   "cell_type": "code",
   "execution_count": 22,
   "metadata": {},
   "outputs": [
    {
     "data": {
      "text/plain": [
       "1682"
      ]
     },
     "execution_count": 22,
     "metadata": {},
     "output_type": "execute_result"
    }
   ],
   "source": [
    "# 检查有效链接是多少个\n",
    "len(pagesValidLinks)"
   ]
  },
  {
   "cell_type": "code",
   "execution_count": 54,
   "metadata": {},
   "outputs": [
    {
     "name": "stdout",
     "output_type": "stream",
     "text": [
      "已经运行到第 0 个链接，成功采集条数： 0 失败采集条数： 0\n",
      "已经运行到第 100 个链接，成功采集条数： 97 失败采集条数： 3\n",
      "已经运行到第 200 个链接，成功采集条数： 184 失败采集条数： 16\n",
      "已经运行到第 300 个链接，成功采集条数： 284 失败采集条数： 16\n",
      "已经运行到第 400 个链接，成功采集条数： 356 失败采集条数： 44\n",
      "http://www.ziroom.com/x/715380417.html 打不开\n",
      "已经运行到第 500 个链接，成功采集条数： 453 失败采集条数： 47\n",
      "已经运行到第 600 个链接，成功采集条数： 506 失败采集条数： 94\n",
      "已经运行到第 700 个链接，成功采集条数： 601 失败采集条数： 99\n",
      "已经运行到第 800 个链接，成功采集条数： 701 失败采集条数： 99\n",
      "http://www.ziroom.com/x/793221559.html 打不开\n",
      "已经运行到第 900 个链接，成功采集条数： 794 失败采集条数： 106\n",
      "已经运行到第 1000 个链接，成功采集条数： 832 失败采集条数： 168\n",
      "http://www.ziroom.com/x/720757903.html 打不开\n",
      "已经运行到第 1100 个链接，成功采集条数： 931 失败采集条数： 169\n",
      "已经运行到第 1200 个链接，成功采集条数： 1022 失败采集条数： 178\n",
      "已经运行到第 1300 个链接，成功采集条数： 1103 失败采集条数： 197\n",
      "已经运行到第 1400 个链接，成功采集条数： 1125 失败采集条数： 275\n",
      "已经运行到第 1500 个链接，成功采集条数： 1167 失败采集条数： 333\n",
      "已经运行到第 1600 个链接，成功采集条数： 1180 失败采集条数： 420\n"
     ]
    }
   ],
   "source": [
    "successLinks = []\n",
    "failLinks = []\n",
    "pagesInf = getPagesInf(pagesValidLinks, successLinks, failLinks)"
   ]
  },
  {
   "cell_type": "markdown",
   "metadata": {},
   "source": [
    "### 处理在第一遍采集中没有成功的链接"
   ]
  },
  {
   "cell_type": "code",
   "execution_count": 136,
   "metadata": {},
   "outputs": [],
   "source": [
    "# 由于上一步运行时间较长，下面使用备份变量进行操作，以方便随时回滚到此步操作\n",
    "sLinks = copy.deepcopy(successLinks)\n",
    "fLinks = copy.deepcopy(failLinks)"
   ]
  },
  {
   "cell_type": "code",
   "execution_count": 145,
   "metadata": {},
   "outputs": [
    {
     "name": "stdout",
     "output_type": "stream",
     "text": [
      "\n",
      "=======================正在进行第 1 轮重新采集=======================\n",
      "本轮开始时，成功链接条数为 1224，失败链接数为 458.\n",
      "已经运行到第 0 个链接，成功采集条数： 1224 失败采集条数： 0\n",
      "http://www.ziroom.com/x/715380417.html 打不开\n",
      "已经运行到第 100 个链接，成功采集条数： 1293 失败采集条数： 31\n",
      "http://www.ziroom.com/x/793221559.html 打不开\n",
      "已经运行到第 200 个链接，成功采集条数： 1392 失败采集条数： 32\n",
      "http://www.ziroom.com/x/795450619.html 打不开\n",
      "http://www.ziroom.com/x/715971729.html 打不开\n",
      "已经运行到第 300 个链接，成功采集条数： 1489 失败采集条数： 35\n",
      "http://www.ziroom.com/x/796725393.html 打不开\n",
      "已经运行到第 400 个链接，成功采集条数： 1536 失败采集条数： 88\n",
      "***检查点：这一轮的链接总共有 458 个，依旧失败的链接总共有 105 个\n",
      "***检查点：本轮增量数据框维数 (353, 14), 补充收集过程总共增量数据框维数 (353, 14)\n",
      "===========这一轮过后成功的个数 1577 还没成功的个数为 105 ============\n",
      "\n",
      "=======================正在进行第 2 轮重新采集=======================\n",
      "本轮开始时，成功链接条数为 1577，失败链接数为 105.\n",
      "已经运行到第 0 个链接，成功采集条数： 1577 失败采集条数： 0\n",
      "http://www.ziroom.com/x/715380417.html 打不开\n",
      "http://www.ziroom.com/x/793221559.html 打不开\n",
      "http://www.ziroom.com/x/795450619.html 打不开\n",
      "http://www.ziroom.com/x/715971729.html 打不开\n",
      "http://www.ziroom.com/x/807021574.html 打不开\n",
      "http://www.ziroom.com/x/796725393.html 打不开\n",
      "已经运行到第 100 个链接，成功采集条数： 1649 失败采集条数： 28\n",
      "***检查点：这一轮的链接总共有 105 个，依旧失败的链接总共有 28 个\n",
      "***检查点：本轮增量数据框维数 (77, 14), 补充收集过程总共增量数据框维数 (430, 14)\n",
      "===========这一轮过后成功的个数 1654 还没成功的个数为 28 ============\n",
      "\n",
      "=======================正在进行第 3 轮重新采集=======================\n",
      "本轮开始时，成功链接条数为 1654，失败链接数为 28.\n",
      "已经运行到第 0 个链接，成功采集条数： 1654 失败采集条数： 0\n",
      "http://www.ziroom.com/x/715380417.html 打不开\n",
      "http://www.ziroom.com/x/793221559.html 打不开\n",
      "http://www.ziroom.com/x/795450619.html 打不开\n",
      "http://www.ziroom.com/x/715971729.html 打不开\n",
      "http://www.ziroom.com/x/807021574.html 打不开\n",
      "http://www.ziroom.com/x/796725393.html 打不开\n",
      "***检查点：这一轮的链接总共有 28 个，依旧失败的链接总共有 6 个\n",
      "***检查点：本轮增量数据框维数 (22, 14), 补充收集过程总共增量数据框维数 (452, 14)\n",
      "===========这一轮过后成功的个数 1676 还没成功的个数为 6 ============\n",
      "\n",
      "=======================正在进行第 4 轮重新采集=======================\n",
      "本轮开始时，成功链接条数为 1676，失败链接数为 6.\n",
      "已经运行到第 0 个链接，成功采集条数： 1676 失败采集条数： 0\n",
      "http://www.ziroom.com/x/715380417.html 打不开\n",
      "http://www.ziroom.com/x/793221559.html 打不开\n",
      "http://www.ziroom.com/x/795450619.html 打不开\n",
      "http://www.ziroom.com/x/715971729.html 打不开\n",
      "http://www.ziroom.com/x/807021574.html 打不开\n",
      "http://www.ziroom.com/x/796725393.html 打不开\n",
      "【全部采集完成或者连续两次采集失败的链接完全相同】\n"
     ]
    }
   ],
   "source": [
    "# 重复采集没有成功的数据\n",
    "# 当重复次数 > 5 或者已经没有采集失败的链接或者连续两次采集失败的链接一模一样（网址本身可能存在问题）就停止循环\n",
    "pagesInfAdd = pd.DataFrame()\n",
    "for k in range(5):\n",
    "    print(\"\\n=======================正在进行第\", k+1, \"轮重新采集=======================\")\n",
    "    print(\"本轮开始时，成功链接条数为 {}，失败链接数为 {}.\".format(len(sLinks), len(fLinks)))\n",
    "    stillFailLinks = []\n",
    "    # 已成功采集的链接只增不减，在下过程内部已经实现更新\n",
    "    # 使用上一轮没有成功的链接作为总体，传入原本成功链接的列表以及新的依旧没有成功列表\n",
    "    pagesInfAddOnce = getPagesInf(fLinks, sLinks, stillFailLinks)\n",
    "    \n",
    "    # 如果没有依旧没有成功的链接或者连续两次依旧没有成功的链接一模一样，结束更新\n",
    "    if len(stillFailLinks) == len(fLinks) or len(stillFailLinks) == 0:\n",
    "        print('【全部采集完成或者连续两次采集失败的链接完全相同】')\n",
    "        break\n",
    "    \n",
    "    # 更新没有成功采集数据的链接\n",
    "    print('***检查点：这一轮的链接总共有 {} 个，依旧失败的链接总共有 {} 个'.format(len(fLinks), len(stillFailLinks)))\n",
    "    fLinks = copy.deepcopy(stillFailLinks)\n",
    "    pagesInfAdd = pagesInfAdd.append(pagesInfAddOnce)\n",
    "    print(\"***检查点：本轮增量数据框维数 {}, 补充收集过程总共增量数据框维数 {}\".format(pagesInfAddOnce.shape, pagesInfAdd.shape))\n",
    "    print(\"===========这一轮过后成功的个数\", len(sLinks), \"还没成功的个数为\", len(fLinks), '============')\n",
    "    "
   ]
  },
  {
   "cell_type": "code",
   "execution_count": 146,
   "metadata": {},
   "outputs": [
    {
     "data": {
      "text/plain": [
       "6"
      ]
     },
     "execution_count": 146,
     "metadata": {},
     "output_type": "execute_result"
    }
   ],
   "source": [
    "# 检查连续没有成功采集的链接，可舍弃\n",
    "len(stillFailLinks)"
   ]
  },
  {
   "cell_type": "code",
   "execution_count": 147,
   "metadata": {},
   "outputs": [
    {
     "data": {
      "text/plain": [
       "1676"
      ]
     },
     "execution_count": 147,
     "metadata": {},
     "output_type": "execute_result"
    }
   ],
   "source": [
    "# 检查最终收集到的有效数据条数\n",
    "len(sLinks)"
   ]
  },
  {
   "cell_type": "code",
   "execution_count": 149,
   "metadata": {},
   "outputs": [],
   "source": [
    "# 备份（可省略）\n",
    "# pagesInf2 = copy.deepcopy(pagesInf)"
   ]
  },
  {
   "cell_type": "code",
   "execution_count": 150,
   "metadata": {},
   "outputs": [],
   "source": [
    "# 将补充收集的数据与原数据合并\n",
    "pagesInf = pagesInf.append(pagesInfAdd)\n",
    "pagesInf.shape"
   ]
  },
  {
   "cell_type": "code",
   "execution_count": 153,
   "metadata": {},
   "outputs": [
    {
     "data": {
      "text/plain": [
       "(1676, 14)"
      ]
     },
     "execution_count": 153,
     "metadata": {},
     "output_type": "execute_result"
    }
   ],
   "source": [
    "pagesInf.shape"
   ]
  },
  {
   "cell_type": "markdown",
   "metadata": {},
   "source": [
    "## 把可以理解的价格导进去"
   ]
  },
  {
   "cell_type": "markdown",
   "metadata": {},
   "source": [
    "- 获取价格的背景图片信息\n",
    "- 使用 ```pytesseract``` 将图片数字转化为字符串数字\n",
    "- 找到各个位数上数字对应图片的位置索引\n",
    "- 生成最终价格\n",
    "- 通过观察可知，每一个价格的几位数字对应的图片是同一个，对于一个价格只需要进行一次图片转字符串的操作即可"
   ]
  },
  {
   "cell_type": "code",
   "execution_count": 162,
   "metadata": {},
   "outputs": [],
   "source": [
    "# 生成该数据框中的所有价格\n",
    "# 返回价格列表（价格以字符串形式存在）\n",
    "def getPrices(inf_df):\n",
    "    \n",
    "    urls = list(inf_df['url'])\n",
    "    imgs = list(inf_df['img_url'])\n",
    "    poses = list(inf_df['price_raw'])\n",
    "    \n",
    "    # 每一个循环对应一套房子的房价计算\n",
    "    prices = []\n",
    "    for i, pos in enumerate(poses):\n",
    "        if len(prices)%100 == 0:\n",
    "            print(\"\\n已经收集了 {} 条价格信息\".format(len(prices)), end = ' ')\n",
    "        if len(prices)%10 == 0:\n",
    "            print('-', end = '')\n",
    "        ppx = pos.split(\",\")\n",
    "        # 一个价格映射到的图片文件相同，识别一次即可\n",
    "        BytesIOObj = BytesIO()\n",
    "        response = requests.get(imgs[i])\n",
    "        response = response.content\n",
    "        BytesIOObj.write(response)\n",
    "        img = Image.open(BytesIOObj)\n",
    "        # 将图片转化为字符串\n",
    "        imgText = pytesseract.image_to_string(img).replace(\" \", \"\")\n",
    "        # 识别各个位数的数字\n",
    "        price = ''\n",
    "        for p in ppx:\n",
    "            pIdx = int(float(p)/30.4)\n",
    "            num = imgText[pIdx]\n",
    "            price += num\n",
    "        prices.append(price)\n",
    "    \n",
    "    return prices"
   ]
  },
  {
   "cell_type": "code",
   "execution_count": 155,
   "metadata": {},
   "outputs": [],
   "source": [
    "# 将价格加在数据框上\n",
    "def setPrices(inf_df, prices_in):\n",
    "    inf_df['price'] = prices_in"
   ]
  },
  {
   "cell_type": "code",
   "execution_count": 163,
   "metadata": {},
   "outputs": [
    {
     "name": "stdout",
     "output_type": "stream",
     "text": [
      "\n",
      "已经收集了 0 条价格信息 ----------\n",
      "已经收集了 100 条价格信息 ----------\n",
      "已经收集了 200 条价格信息 ----------\n",
      "已经收集了 300 条价格信息 ----------\n",
      "已经收集了 400 条价格信息 ----------\n",
      "已经收集了 500 条价格信息 ----------\n",
      "已经收集了 600 条价格信息 ----------\n",
      "已经收集了 700 条价格信息 ----------\n",
      "已经收集了 800 条价格信息 ----------\n",
      "已经收集了 900 条价格信息 ----------\n",
      "已经收集了 1000 条价格信息 ----------\n",
      "已经收集了 1100 条价格信息 ----------\n",
      "已经收集了 1200 条价格信息 ----------\n",
      "已经收集了 1300 条价格信息 ----------\n",
      "已经收集了 1400 条价格信息 ----------\n",
      "已经收集了 1500 条价格信息 ----------\n",
      "已经收集了 1600 条价格信息 --------"
     ]
    }
   ],
   "source": [
    "prices = getPrices(pagesInf)"
   ]
  },
  {
   "cell_type": "code",
   "execution_count": 173,
   "metadata": {},
   "outputs": [],
   "source": [
    "# 将价格的类型转化为整数型\n",
    "price_nums = [int(price) for price in prices]"
   ]
  },
  {
   "cell_type": "code",
   "execution_count": 177,
   "metadata": {},
   "outputs": [],
   "source": [
    "# 将价格导入数据框\n",
    "setPrices(pagesInf, price_nums)"
   ]
  },
  {
   "cell_type": "code",
   "execution_count": 192,
   "metadata": {},
   "outputs": [],
   "source": [
    "# 存储最终结果\n",
    "pagesInf.to_csv(index = False, header = True, path_or_buf=\"C:/Users/lenovo/Desktop/zirudata.csv\", encoding = \"utf_8_sig\",\n",
    "               date_format = '-')"
   ]
  }
 ],
 "metadata": {
  "kernelspec": {
   "display_name": "Python 3",
   "language": "python",
   "name": "python3"
  },
  "language_info": {
   "codemirror_mode": {
    "name": "ipython",
    "version": 3
   },
   "file_extension": ".py",
   "mimetype": "text/x-python",
   "name": "python",
   "nbconvert_exporter": "python",
   "pygments_lexer": "ipython3",
   "version": "3.7.3"
  }
 },
 "nbformat": 4,
 "nbformat_minor": 2
}
